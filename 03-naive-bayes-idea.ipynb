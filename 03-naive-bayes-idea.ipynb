{
 "cells": [
  {
   "cell_type": "code",
   "execution_count": 9,
   "metadata": {},
   "outputs": [
    {
     "name": "stdout",
     "output_type": "stream",
     "text": [
      "5.454786435374378e-21 1.5432862457230495e-21\n",
      "The review is from New York\n"
     ]
    }
   ],
   "source": [
    "import pandas as pd\n",
    "\n",
    "\n",
    "def counter(review_list):\n",
    "    counter = {}\n",
    "    for text in review_list:\n",
    "        words = text.split()\n",
    "        for word in words:\n",
    "            if word not in counter:\n",
    "                counter[word] = 0 \n",
    "            counter[word] += 1\n",
    "    return counter\n",
    "\n",
    "# Load data\n",
    "new_york_tweets = pd.read_json(\"data/new_york.json\", lines=True)\n",
    "london_tweets = pd.read_json(\"data/london.json\", lines=True)\n",
    "\n",
    "new_york_text = new_york_tweets[\"text\"].tolist()\n",
    "london_text = london_tweets[\"text\"].tolist()\n",
    "\n",
    "pos_list = new_york_text\n",
    "neg_list = london_text\n",
    "pos_counter = counter(pos_list)\n",
    "neg_counter =  counter(neg_list)\n",
    "\n",
    "\n",
    "# Calculate P(positive) & P(negative)\n",
    "pos_list_len = len(new_york_text)\n",
    "neg_list_len = len(london_text)\n",
    "total_reviews = pos_list_len + neg_list_len\n",
    "\n",
    "percent_pos = pos_list_len / total_reviews\n",
    "percent_neg = neg_list_len / total_reviews\n",
    "\n",
    "\n",
    "# Calculate P(review | positive) & P(review | negative)\n",
    "review = \"The Statue of Liberty is beautiful\"\n",
    "\n",
    "total_pos = sum(pos_counter.values())\n",
    "total_neg = sum(neg_counter.values())\n",
    "\n",
    "pos_probability = 1\n",
    "neg_probability = 1\n",
    "\n",
    "review_words = review.split()\n",
    "\n",
    "for word in review_words:\n",
    "  word_in_pos = pos_counter.get(word, 0)\n",
    "  word_in_neg = neg_counter.get(word, 0)\n",
    "  pos_probability *= (word_in_pos + 1) / (total_pos + len(pos_counter))\n",
    "  neg_probability *= (word_in_neg + 1) / (total_neg + len(neg_counter))\n",
    "\n",
    "\n",
    "# Classify\n",
    "final_pos = pos_probability * percent_pos\n",
    "final_neg = neg_probability * percent_neg\n",
    "\n",
    "if final_pos > final_neg:\n",
    "  print(\"The review is from New York\")\n",
    "else:\n",
    "  print(\"The review is from London\")"
   ]
  },
  {
   "cell_type": "code",
   "execution_count": null,
   "metadata": {},
   "outputs": [],
   "source": []
  }
 ],
 "metadata": {
  "kernelspec": {
   "display_name": "Python 3",
   "language": "python",
   "name": "python3"
  },
  "language_info": {
   "codemirror_mode": {
    "name": "ipython",
    "version": 3
   },
   "file_extension": ".py",
   "mimetype": "text/x-python",
   "name": "python",
   "nbconvert_exporter": "python",
   "pygments_lexer": "ipython3",
   "version": "3.7.1"
  }
 },
 "nbformat": 4,
 "nbformat_minor": 2
}
